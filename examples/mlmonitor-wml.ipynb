{
 "cells": [
  {
   "attachments": {},
   "cell_type": "markdown",
   "id": "e6d1d87f",
   "metadata": {
    "id": "ca57299e-851e-4d15-aad6-7f8db9c6de76",
    "papermill": {
     "duration": 0.018505,
     "end_time": "2021-06-07T00:09:44.379517",
     "exception": false,
     "start_time": "2021-06-07T00:09:44.361012",
     "status": "completed"
    },
    "tags": []
   },
   "source": [
    "# ML Model Onboarding  Accelerator - Watson Machine Learning\n",
    "_**Automate Watson Machine Learning Model Onboarding process - Governance in AI Factsheets - Monitoring in Watson OpenScale**_\n",
    "\n",
    "### how to use <i>mlmonitor</i> client\n",
    "- [Initialize token](#tokens)\n",
    "- [Train model in WML](#train_wml_job)\n",
    "- [Deploy Online model](#deploy_wml_endpoint)\n",
    "- [Score model](#score_endpoint)\n",
    "- [Configure Monitoring](#monitor_endpoint)\n",
    "- [Configure Quality](#quality_monitor)\n",
    "- [Configure Explainability](#explain_monitor)\n",
    "- [Configure Fairness Monitoring](#fairness_monitor)\n",
    "- [Configure Drift Monitoring](#drift_monitor)\n",
    "- [Log feedback data](#feedback_logging)\n",
    "- [Log payload data](#payload_logging)\n",
    "- [Evaluate monitors](#evaluate_monitors)\n",
    "- [Drift Scenario](#data_drift_scenario)\n",
    "- [Delete Deployment](#delete_resources)\n",
    "---"
   ]
  },
  {
   "attachments": {},
   "cell_type": "markdown",
   "id": "14716a6a-d167-4a72-ad17-edb98f436f0f",
   "metadata": {
    "id": "0042efa3-121b-4926-9742-afeee0ce3af1"
   },
   "source": [
    "#### setup credentials for mlmonitor library"
   ]
  },
  {
   "attachments": {},
   "cell_type": "markdown",
   "id": "da1e83fb",
   "metadata": {},
   "source": [
    "### Set up Project Token and API Key  <a name=\"tokens\"></a>\n",
    "Before executing this notebook, you need to insert a project token and create a project data asset with config files :<br>\n",
    "\n",
    "\n",
    "- `credentials_uploaded2cp4d.cfg` populated as described in [doc](/mlmonitor/README.md) section 2.1\n",
    "\n",
    "#### Provide the project access token\n",
    "1. When you imported the project from the github repo, the first cell of this notebook should contain the project access token.\n",
    "\n",
    "2. If this notebook does not contain a first cell with a project access token, then to generate the token, click **More > Insert project token** on the menu bar.<br>\n",
    "\n",
    "![ws-project.mov](https://media.giphy.com/media/jSVxX2spqwWF9unYrs/giphy.gif)\n"
   ]
  },
  {
   "cell_type": "code",
   "execution_count": null,
   "id": "67adcd75-bdcd-4678-9cc9-c90d8fb0c5c0",
   "metadata": {
    "id": "cfea9a79-19fb-4990-bb0c-64235f9b6b93",
    "is_executing": true
   },
   "outputs": [],
   "source": [
    "import os\n",
    "import sys\n",
    "import json\n",
    "\n",
    "os.environ['ENV'] = 'saas'\n",
    "os.environ['LOG_LEVEL'] = '10'\n",
    "os.environ['VERIFY_CP4D_SSL'] = \"False\"\n",
    "config_filename = 'credentials_uploaded2cp4d.cfg'\n",
    "\n",
    "if 'PROJECT_ID' in os.environ:\n",
    "    # RUN NOTEBOOK in CP4D\n",
    "    mlmonitor_credentials = json.load(project.get_file(config_filename))\n",
    "    with open(\"/tmp/credentials.cfg\", \"w\") as f:\n",
    "        json.dump(mlmonitor_credentials, f, indent=4, sort_keys=True)\n",
    "\n",
    "    os.environ['MONITOR_CONFIG_FILE'] = \"/tmp/credentials.cfg\"\n",
    "    !pip install --extra-index-url https://test.pypi.org/simple/ mlmonitor[drift]\n",
    "else:\n",
    "    lib_path = os.path.abspath('../')\n",
    "    sys.path.append(lib_path)\n",
    "    os.environ['MONITOR_CONFIG_FILE'] = os.path.join(lib_path,config_filename)"
   ]
  },
  {
   "attachments": {},
   "cell_type": "markdown",
   "id": "6936f75c-f4e6-451f-adfc-cc7da3b01f03",
   "metadata": {
    "id": "adcd1ed8-e3bf-4ffb-b131-7198221911c0"
   },
   "source": [
    "### test specific tasks from WMLModelUseCase"
   ]
  },
  {
   "cell_type": "code",
   "execution_count": null,
   "id": "cab4cb38-2171-4c2a-899a-ab5d5ca2af7f",
   "metadata": {
    "id": "57b8b550-d6cf-42f1-b0bc-e9feb409ce29"
   },
   "outputs": [],
   "source": [
    "from mlmonitor import WMLModelUseCase    \n",
    "from mlmonitor.src.demos.model_perturbator import ModelPerturbator\n",
    "\n",
    "source_dir = 'use_case_gcr'\n",
    "model_endpoint = None\n",
    "\n",
    "# Model use case definition\n",
    "catalog_id = ''\n",
    "model_entry_id = ''\n",
    "\n",
    "\n",
    "model_use_case = WMLModelUseCase(source_dir=source_dir,catalog_id=catalog_id,model_entry_id=model_entry_id)\n",
    "print(model_use_case._wos_configured)\n",
    "print(model_use_case._wml_configured)\n",
    "\n",
    "if model_endpoint:\n",
    "    model_use_case.derive_model_states(endpoint_name=model_endpoint)\n",
    "\n",
    "model_use_case.display_states()"
   ]
  },
  {
   "attachments": {},
   "cell_type": "markdown",
   "id": "b0e300aa-fed8-4708-984d-63dd350a70ca",
   "metadata": {
    "id": "9c597708-84ec-4f92-ae1b-c73976c48814"
   },
   "source": [
    "### Train model in WML Job <a name=\"train_wml_job\"></a>"
   ]
  },
  {
   "cell_type": "code",
   "execution_count": null,
   "id": "c687ed0a",
   "metadata": {
    "id": "c671f6cd26324b2eb5dc51ecf9b9e4e3"
   },
   "outputs": [],
   "source": [
    "model_use_case.train()"
   ]
  },
  {
   "attachments": {},
   "cell_type": "markdown",
   "id": "d3eb194b",
   "metadata": {
    "id": "2882c73f-8433-466b-b0a1-c79aee8d437f",
    "papermill": {
     "duration": null,
     "end_time": null,
     "exception": null,
     "start_time": null,
     "status": "pending"
    },
    "tags": []
   },
   "source": [
    "### Deploy WML online endpoint <a name=\"deploy_wml_endpoint\"></a>"
   ]
  },
  {
   "cell_type": "code",
   "execution_count": null,
   "id": "dbb360d5-e421-452e-a72f-a700b71ee5ee",
   "metadata": {
    "id": "7727a1a8-f91e-4b2f-8909-0d502fff8772"
   },
   "outputs": [],
   "source": [
    "model_use_case.deploy()"
   ]
  },
  {
   "attachments": {},
   "cell_type": "markdown",
   "id": "0a63d8a7",
   "metadata": {
    "id": "4613f3fb-0aa1-4761-8312-b54f51f3f1fe",
    "papermill": {
     "duration": null,
     "end_time": null,
     "exception": null,
     "start_time": null,
     "status": "pending"
    },
    "tags": []
   },
   "source": [
    "### Score WML model <a name=\"score_endpoint\"></a>"
   ]
  },
  {
   "cell_type": "code",
   "execution_count": null,
   "id": "df371cc4-c997-4ca1-8341-3f19942f4b98",
   "metadata": {
    "id": "6e823db6-07e1-4a9d-b51f-42d665ccf477"
   },
   "outputs": [],
   "source": [
    "model_use_case.score_model()"
   ]
  },
  {
   "attachments": {},
   "cell_type": "markdown",
   "id": "de861940-fd3d-4b2b-b3f6-b7a05ecaae07",
   "metadata": {
    "id": "7cc9318a-1332-4ebe-b262-92a0a160de80"
   },
   "source": [
    "### Configure WML Monitoring <a name=\"monitor_endpoint\"></a>"
   ]
  },
  {
   "cell_type": "code",
   "execution_count": null,
   "id": "a6bbc98b-4305-49ea-a04e-a1f7fd30b8df",
   "metadata": {
    "id": "e93c4cf4-d4b2-47db-819b-daf1a393d350"
   },
   "outputs": [],
   "source": [
    "model_use_case.monitor()"
   ]
  },
  {
   "attachments": {},
   "cell_type": "markdown",
   "id": "23111939-96ca-4315-800c-464c7b120147",
   "metadata": {
    "id": "d4e57fc9-fd47-45ca-940e-7afc6d0ac03f"
   },
   "source": [
    "### Configure Quality Monitor <a name=\"quality_monitor\"></a>"
   ]
  },
  {
   "cell_type": "code",
   "execution_count": null,
   "id": "f9461ef9-1616-48b5-986d-85bffea7b2a6",
   "metadata": {
    "id": "7464086c-b047-40c2-bb26-f342f2b6ca29"
   },
   "outputs": [],
   "source": [
    "model_use_case.configure_quality_monitor()"
   ]
  },
  {
   "attachments": {},
   "cell_type": "markdown",
   "id": "f941ad2b-4f55-4bca-92ef-b90f1a315cc0",
   "metadata": {
    "id": "07067b4c-de6d-40da-9f35-15af887e68eb"
   },
   "source": [
    "### Configure Explainability Monitor <a name=\"explain_monitor\"></a>"
   ]
  },
  {
   "cell_type": "code",
   "execution_count": null,
   "id": "7995c4c8-bfbd-4228-b376-56af390cf0e3",
   "metadata": {
    "id": "5269bd49-d95d-4c8a-a7ae-34d684c6dbd1"
   },
   "outputs": [],
   "source": [
    "model_use_case.configure_explainability_monitor()"
   ]
  },
  {
   "attachments": {},
   "cell_type": "markdown",
   "id": "290978e1-a311-4ea0-b7fe-3e6820e985bd",
   "metadata": {
    "id": "6ac38ab1-59c0-4cde-8707-637164294967"
   },
   "source": [
    "### Configure Fairness Monitor <a name=\"fairness_monitor\"></a>"
   ]
  },
  {
   "cell_type": "code",
   "execution_count": null,
   "id": "c1ffff78-99dc-4d4d-9711-6c6cb00f4aa5",
   "metadata": {
    "id": "8f765803-bd7b-4229-a3d9-b2a01f2c8b93"
   },
   "outputs": [],
   "source": [
    "model_use_case.configure_fairness_monitor()"
   ]
  },
  {
   "attachments": {},
   "cell_type": "markdown",
   "id": "92401344",
   "metadata": {
    "id": "5ec8f584-dd1a-4092-8e14-facd02ac6068"
   },
   "source": [
    "### Configure Drift Monitor <a name=\"drift_monitor\"></a>"
   ]
  },
  {
   "cell_type": "code",
   "execution_count": null,
   "id": "5c0a7cdd",
   "metadata": {
    "id": "53fb25c6-246b-4f01-9f06-7f3c084bb072"
   },
   "outputs": [],
   "source": [
    "model_use_case.configure_drift_monitor()"
   ]
  },
  {
   "attachments": {},
   "cell_type": "markdown",
   "id": "eb875af6",
   "metadata": {
    "id": "d037d010-de6c-4499-b53a-52fe355710c4"
   },
   "source": [
    "### Log feedback data <a name=\"feedback_logging\"></a>"
   ]
  },
  {
   "cell_type": "code",
   "execution_count": null,
   "id": "aad54854",
   "metadata": {
    "id": "7584d0b5-1d60-4111-ad99-f2da1c7c19f0"
   },
   "outputs": [],
   "source": [
    "model_use_case.log_feedback()"
   ]
  },
  {
   "attachments": {},
   "cell_type": "markdown",
   "id": "e865291d",
   "metadata": {
    "id": "6a143ec4-7f25-4cdd-8015-298d5bdfea9a"
   },
   "source": [
    "### Log Payload data <a name=\"payload_logging\"></a>"
   ]
  },
  {
   "cell_type": "code",
   "execution_count": null,
   "id": "cbc92394",
   "metadata": {
    "id": "c02c75ed-0beb-47df-84c7-0f31355f1293"
   },
   "outputs": [],
   "source": [
    "model_use_case.log_payload()"
   ]
  },
  {
   "attachments": {},
   "cell_type": "markdown",
   "id": "ded11c6a-c3da-40eb-9931-e79d1ea516a7",
   "metadata": {
    "id": "73f3eb38-16a1-4694-840a-4c7174afc24e"
   },
   "source": [
    "### Evaluate monitors <a name=\"evaluate_monitors\"></a>"
   ]
  },
  {
   "cell_type": "code",
   "execution_count": null,
   "id": "9bb4107e-2670-4c42-b7fd-635b1a377030",
   "metadata": {
    "id": "8f4344fe-61a3-4ed4-937b-3f2d25bc20e3"
   },
   "outputs": [],
   "source": [
    "model_use_case.evaluate_model()"
   ]
  },
  {
   "attachments": {},
   "cell_type": "markdown",
   "id": "02801695",
   "metadata": {
    "id": "7f5bf2ba44ff49f99092513d4f5c8c39"
   },
   "source": [
    "### Run a data drift scenario <a name=\"data_drift_scenario\"></a>"
   ]
  },
  {
   "cell_type": "code",
   "execution_count": null,
   "id": "82a56cb5",
   "metadata": {
    "id": "81011dbfa74f406e8474cadcea84cc51"
   },
   "outputs": [],
   "source": [
    "model_perturbation = ModelPerturbator(\n",
    "        source_dir=source_dir,\n",
    "        monitor_type='drift',\n",
    "        scenario_id='single_column_1',\n",
    "    )\n",
    "\n",
    "model_perturbation.ratios = [0.1, 0.2, 0.3, 0.2, 0.1]\n",
    "\n",
    "model_use_case.data_drift_scenario(model_perturbation)"
   ]
  },
  {
   "attachments": {},
   "cell_type": "markdown",
   "id": "3fa98afe",
   "metadata": {
    "id": "1fec5b7bb335441c8e117896084c0c48"
   },
   "source": [
    "### Delete Resources related to Model <a name=\"delete_resources\"></a>"
   ]
  },
  {
   "cell_type": "code",
   "execution_count": null,
   "id": "428ae6f3",
   "metadata": {
    "id": "f5ce3b67fc4e432992d06af23cdb1baf"
   },
   "outputs": [],
   "source": [
    "#model_use_case.cleanup()"
   ]
  }
 ],
 "metadata": {
  "celltoolbar": "Tags",
  "instance_type": "ml.t3.medium",
  "kernelspec": {
   "display_name": "Python 3 (ipykernel)",
   "language": "python",
   "name": "python3"
  },
  "language_info": {
   "codemirror_mode": {
    "name": "ipython",
    "version": 3
   },
   "file_extension": ".py",
   "mimetype": "text/x-python",
   "name": "python",
   "nbconvert_exporter": "python",
   "pygments_lexer": "ipython3",
   "version": "3.10.6"
  },
  "notice": "Copyright 2017 Amazon.com, Inc. or its affiliates. All Rights Reserved.  Licensed under the Apache License, Version 2.0 (the \"License\"). You may not use this file except in compliance with the License. A copy of the License is located at http://aws.amazon.com/apache2.0/ or in the \"license\" file accompanying this file. This file is distributed on an \"AS IS\" BASIS, WITHOUT WARRANTIES OR CONDITIONS OF ANY KIND, either express or implied. See the License for the specific language governing permissions and limitations under the License.",
  "papermill": {
   "default_parameters": {},
   "duration": 311.728138,
   "end_time": "2021-06-07T00:14:55.273560",
   "environment_variables": {},
   "exception": true,
   "input_path": "xgboost_customer_churn.ipynb",
   "output_path": "/opt/ml/processing/output/xgboost_customer_churn-2021-06-07-00-06-03.ipynb",
   "parameters": {
    "kms_key": "arn:aws:kms:us-west-2:521695447989:key/6e9984db-50cf-4c7e-926c-877ec47a8b25"
   },
   "start_time": "2021-06-07T00:09:43.545422",
   "version": "2.3.3"
  }
 },
 "nbformat": 4,
 "nbformat_minor": 5
}
