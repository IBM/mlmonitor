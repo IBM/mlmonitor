{
 "cells": [
  {
   "cell_type": "markdown",
   "id": "e6d1d87f",
   "metadata": {
    "papermill": {
     "duration": 0.018505,
     "end_time": "2021-06-07T00:09:44.379517",
     "exception": false,
     "start_time": "2021-06-07T00:09:44.361012",
     "status": "completed"
    },
    "tags": []
   },
   "source": [
    "# Create custom monitor in Watson OpenScale\n",
    "**This is to showcase how to configure a custom monitor**\n",
    "\n",
    "### how to use this notebook\n",
    "- [ Build  `custmonitor`  library](#build_custmonitor)\n",
    "- [Create a Package Extension in WML with custmonitor library](#package_extension)\n",
    "- [Create a Software specification in WML with custmonitor ](#software_specifications)\n",
    "- [Delete a Software specification in WML (optional) ](#delete_sw_package)\n",
    "- [Load Custom monitor definition from model signature ](#load_custmonitor_definition)\n",
    "- [Deploy Custom Metrics Provider ](#metrics_provider)\n",
    "- [Test Custom Metrics Provider ](#test_metrics_provider)\n",
    "- [Create Custom Monitor](#custom_monitor)\n",
    "- [Feedback or Payload Logging](#feedback_loggigng)\n",
    "- [Evaluate custom Monitor](#evaluate)\n",
    "- [Delete custom Monitor](#delete)\n",
    "---"
   ]
  },
  {
   "cell_type": "markdown",
   "id": "c88f3298-c8d4-43a5-b4c7-d8e8a82c0062",
   "metadata": {
    "tags": []
   },
   "source": [
    "### Set up Project Token and API Key  <a name=\"tokens\"></a>\n",
    "Before executing this notebook, you need to insert a project token and create a project data asset with config files :<br>\n",
    "\n",
    "\n",
    "- `credentials_uploaded2cp4d.cfg` populated as described in [doc](/mlmonitor/README.md) section 2.1\n",
    "\n",
    "#### Provide the project access token\n",
    "1. When you imported the project from the github repo, the first cell of this notebook should contain the project access token.\n",
    "\n",
    "2. If this notebook does not contain a first cell with a project access token, then to generate the token, click **More > Insert project token** on the menu bar.<br>\n",
    "\n",
    "![ws-project.mov](https://media.giphy.com/media/jSVxX2spqwWF9unYrs/giphy.gif)\n"
   ]
  },
  {
   "cell_type": "markdown",
   "id": "3bdde5e2-4ea4-4992-bc94-4d91c2472611",
   "metadata": {},
   "source": [
    "#### chose model use case and deployment name here"
   ]
  },
  {
   "cell_type": "code",
   "execution_count": null,
   "id": "330071eb-66d3-4c35-9a24-1f9a0f56c33d",
   "metadata": {},
   "outputs": [],
   "source": [
    "source_dir = 'use_case_gcr'\n",
    "# Model for which the Custom monitor is attached (via subscription)\n",
    "monitored_model = None"
   ]
  },
  {
   "cell_type": "markdown",
   "id": "14716a6a-d167-4a72-ad17-edb98f436f0f",
   "metadata": {},
   "source": [
    "#### setup credentials for mlmonitor library"
   ]
  },
  {
   "cell_type": "code",
   "execution_count": null,
   "id": "67adcd75-bdcd-4678-9cc9-c90d8fb0c5c0",
   "metadata": {},
   "outputs": [],
   "source": [
    "import json\n",
    "import os\n",
    "import sys\n",
    "\n",
    "cfg_filename='credentials_uploaded2cp4d.cfg'\n",
    "\n",
    "if 'PROJECT_ID' in os.environ:\n",
    "    # RUN NOTEBOOK in CP4D \n",
    "    mlmonitor_credentials = json.load(project.get_file(cfg_filename))\n",
    "\n",
    "\n",
    "    with open(\"/tmp/credentials.cfg\", \"w\") as f:\n",
    "        json.dump(mlmonitor_credentials, f, indent=4, sort_keys=True)\n",
    "\n",
    "    os.environ['MONITOR_CONFIG_FILE'] = \"/tmp/credentials.cfg\"\n",
    "\n",
    "else:\n",
    "     # RUN NOTEBOOK locally   \n",
    "\n",
    "    with open(f\"../{cfg_filename}\", \"r\") as f:\n",
    "        mlmonitor_credentials = json.load(f)\n",
    "\n",
    "    os.environ['MONITOR_CONFIG_FILE'] = f\"../{cfg_filename}\"\n",
    "    sys.path.append(os.path.abspath('../'))"
   ]
  },
  {
   "cell_type": "code",
   "execution_count": null,
   "id": "35a8fcb2-6a6d-4059-b8d6-3ff6112c2ea7",
   "metadata": {},
   "outputs": [],
   "source": [
    "API_KEY = mlmonitor_credentials.get('saas').get('apikey')"
   ]
  },
  {
   "cell_type": "markdown",
   "id": "2d260828-64fb-4565-b88e-4b265c9f8a69",
   "metadata": {},
   "source": [
    "#### install <i>mlmonitor</i>"
   ]
  },
  {
   "cell_type": "code",
   "execution_count": null,
   "id": "68385d14-cc48-47a1-a6f9-6b74ab19c84e",
   "metadata": {},
   "outputs": [],
   "source": [
    "if 'PROJECT_ID' in os.environ:\n",
    "    # RUN NOTEBOOK in CP4D\n",
    "    !pip -q uninstall mlmonitor -y"
   ]
  },
  {
   "cell_type": "code",
   "execution_count": null,
   "id": "15d4accd-25cf-4a7a-bdd2-0f202fc76a44",
   "metadata": {},
   "outputs": [],
   "source": [
    "if 'PROJECT_ID' in os.environ:\n",
    "    # RUN NOTEBOOK in CP4D\n",
    "    !pip install mlmonitor[drift]"
   ]
  },
  {
   "cell_type": "code",
   "execution_count": null,
   "id": "9ab2c899-3afe-455b-9cdc-1a6e33fa35f8",
   "metadata": {},
   "outputs": [],
   "source": [
    "from mlmonitor.src import WOS_URL\n",
    "from mlmonitor.src.wos import wos_client\n",
    "from mlmonitor.src.wml import wml_client,WML_SPACE_ID\n",
    "from mlmonitor.src import PROJECT_ROOT,IAM_URL\n",
    "from mlmonitor.src.wml.package import create_package_extension,create_software_specification_extension\n",
    "from mlmonitor.src.wos.cleanup_custom_monitor import cleanup_custom_monitor\n",
    "from mlmonitor.src.wml.utils import get_function_uid_by_name,get_deployment_uid_by_name\n",
    "from mlmonitor.src.wos.subscription import get_subscription_id_by_deployment\n",
    "from mlmonitor.src.wos.data_mart import get_datamart_ids\n",
    "from mlmonitor.src.wml.utils import get_deployment_uid_by_name\n",
    "\n",
    "subscription_ids = get_subscription_id_by_deployment(wos_client=wos_client, deployment_name=monitored_model.strip())\n",
    "data_marts = get_datamart_ids(wos_client=wos_client)\n",
    "\n",
    "data_mart_id = data_marts[0]\n",
    "subscription_id = subscription_ids[0]\n",
    "\n",
    "wml_client.set.default_space(WML_SPACE_ID)"
   ]
  },
  {
   "cell_type": "markdown",
   "id": "ab7a7066-579d-49db-afd5-cb9e156604c2",
   "metadata": {},
   "source": [
    "#### WML model"
   ]
  },
  {
   "cell_type": "code",
   "execution_count": null,
   "id": "89d24251-4dfd-4477-960f-33dc11aa12f7",
   "metadata": {},
   "outputs": [],
   "source": [
    "from mlmonitor import WMLModelUseCase\n",
    "model_uc = WMLModelUseCase(source_dir=source_dir, catalog_id=None, model_entry_id=None)"
   ]
  },
  {
   "cell_type": "markdown",
   "id": "069c642e-ae8b-4d18-a53c-4ebe3aa28b02",
   "metadata": {},
   "source": [
    "#### SM model"
   ]
  },
  {
   "cell_type": "code",
   "execution_count": null,
   "id": "374d0bbe-5981-4351-9420-e9ea5504ae30",
   "metadata": {},
   "outputs": [],
   "source": [
    "from mlmonitor import SageMakerModelUseCase\n",
    "model_uc = SageMakerModelUseCase(source_dir=source_dir, catalog_id=None, model_entry_id=None)"
   ]
  },
  {
   "cell_type": "code",
   "execution_count": null,
   "id": "b90d5018-08fc-47fb-b0f0-03311157e1ba",
   "metadata": {},
   "outputs": [],
   "source": [
    "model_uc.derive_model_states(monitored_model)"
   ]
  },
  {
   "cell_type": "markdown",
   "id": "5266e49b-9b10-44c2-9b13-471f7011042c",
   "metadata": {},
   "source": [
    "### Load  `custmonitor`  definition from model signature<a name=\"load_custmonitor_definition\"></a>"
   ]
  },
  {
   "cell_type": "code",
   "execution_count": null,
   "id": "42011612-1e5c-44fb-bcbf-980ef7ae024e",
   "metadata": {},
   "outputs": [],
   "source": [
    "wml_function_provider = model_uc._model_config.custom_monitor_wml_function_provider\n",
    "\n",
    "# Deployment name corresponds to the WML function deployed for this custom monitor\n",
    "deployment_name = f\"{wml_function_provider}-deploy\"\n",
    "py_fname = f\"{wml_function_provider}-function\"\n",
    "\n",
    "# CUSTOM MONITOR SPECIFIC NAMES\n",
    "provider_name = model_uc._model_config.custom_monitor_name\n",
    "\n",
    "# Name Displayed in WOS UI\n",
    "custom_monitor_name = model_uc._model_config.custom_monitor_provider_name\n",
    "\n",
    "# custom_metrics_names = (\"sensitivity\", \"specificity\", \"gender_less40_fav_prediction_ratio\")\n",
    "# custom_metrics_thresholds = (0.8, 0.6, 0.6)\n",
    "custom_metrics_names = tuple(model_uc._model_config.custom_monitor_names)\n",
    "custom_metrics_thresholds = tuple(model_uc._model_config.custom_monitor_thresholds)\n",
    "\n",
    "print(f'Create a Custom Monitor for {source_dir} model use case:\\n\\n'\n",
    "    f\"Deployment Name {monitored_model}\\n\"\n",
    "    f\"Model use case  {source_dir}\\n\"\n",
    "    f\"Custom Metrics provider name [{provider_name}] to create\\n\"\n",
    "    f\"wml_function_provider {deployment_name}\\n\"\n",
    "    f\"Custom Monitor name [{custom_monitor_name}] to create\\n\"\n",
    "    f\"Custom metrics name [{custom_metrics_names}]\\n\"\n",
    "    f\"Custom metrics thresholds {custom_metrics_thresholds}\"\n",
    ")"
   ]
  },
  {
   "cell_type": "markdown",
   "id": "b98ebe4a-27ac-48dc-8031-24dddec91b9e",
   "metadata": {},
   "source": [
    "### Build  `custmonitor`  library<a name=\"build_custmonitor\"></a>"
   ]
  },
  {
   "cell_type": "code",
   "execution_count": null,
   "id": "b6564ca2-c956-4bfb-97de-28866c400f97",
   "metadata": {},
   "outputs": [],
   "source": [
    "PYTHON = sys.executable\n",
    "!$PYTHON --version"
   ]
  },
  {
   "cell_type": "code",
   "execution_count": null,
   "id": "f57f26ff-aefe-494d-999b-ff6e48217f05",
   "metadata": {},
   "outputs": [],
   "source": [
    "!cd $PROJECT_ROOT && $PYTHON $PROJECT_ROOT/setup.py sdist --formats=zip"
   ]
  },
  {
   "cell_type": "code",
   "execution_count": null,
   "id": "5c210271-d97c-41b1-8bd0-7cded8f3c524",
   "metadata": {},
   "outputs": [],
   "source": [
    "version=0.1\n",
    "wml_client.software_specifications.get_uid_by_name(f\"custmonitor-{version}\")"
   ]
  },
  {
   "cell_type": "code",
   "execution_count": null,
   "id": "3d503349-919c-4779-a431-7802724e53b2",
   "metadata": {},
   "outputs": [],
   "source": [
    "wml_client.software_specifications.list(limit=10)"
   ]
  },
  {
   "cell_type": "code",
   "execution_count": null,
   "id": "a03f8e0a-46a0-4956-be21-91344362e1fe",
   "metadata": {},
   "outputs": [],
   "source": [
    "wml_client.package_extensions.list()"
   ]
  },
  {
   "cell_type": "markdown",
   "id": "82e09ba9-3b22-406d-a20b-2194c152f2d7",
   "metadata": {},
   "source": [
    "### Find existing Package Extension and SW Extension in WML with `custmonitor`  library<a name=\"package_extension_find\"></a>"
   ]
  },
  {
   "cell_type": "code",
   "execution_count": null,
   "id": "24c41466-c67a-4947-a113-2e63d15220e3",
   "metadata": {},
   "outputs": [],
   "source": [
    "from os.path import join\n",
    "from os.path import join, exists, dirname\n",
    "\n",
    "version=0.1\n",
    "pkg_extn_name = f\"custmonitor-{version}\"\n",
    "pkg_extn_description = \"Pkg extension for Custom Monitor helpers\"\n",
    "pkg_extn_type = \"pip_zip\"\n",
    "pkg_extn_path = join(PROJECT_ROOT, \"dist\", f\"custmonitor-{version}.zip\")\n",
    "pkg_extn_uid = wml_client.package_extensions.get_uid_by_name(pkg_extn_name)\n",
    "pkg_extn_uid"
   ]
  },
  {
   "cell_type": "code",
   "execution_count": null,
   "id": "ddfa2804-eb83-4324-9f74-0a9482f0808d",
   "metadata": {},
   "outputs": [],
   "source": [
    "sw_spec_name = f\"custmonitor-{version}\"\n",
    "sw_sepc_decr = f\"Software specification with custmonitor-{version}\"\n",
    "base_sw_spec = \"runtime-22.2-py3.10\"\n",
    "\n",
    "sw_spec_uid = wml_client.software_specifications.get_uid_by_name(sw_spec_name)\n",
    "sw_spec_uid"
   ]
  },
  {
   "cell_type": "markdown",
   "id": "1cfaced1-0d0c-4a0f-8598-aa3b02fb2040",
   "metadata": {},
   "source": [
    "### Delete Software specification and Package Extension (optional)    <a name=\"delete_sw_package\"></a>"
   ]
  },
  {
   "cell_type": "code",
   "execution_count": null,
   "id": "fd32d918-f0cc-40ac-8e82-b98df3f07b12",
   "metadata": {},
   "outputs": [],
   "source": [
    "if sw_spec_uid != \"Not Found\":\n",
    "    sw_spec_details = wml_client.software_specifications.delete(sw_spec_uid=sw_spec_uid)\n",
    "\n",
    "if pkg_extn_uid != \"Not Found\":\n",
    "    wml_client.package_extensions.delete(pkg_extn_uid)"
   ]
  },
  {
   "cell_type": "markdown",
   "id": "6873a62e-36e5-488f-8031-1a43c55a43f8",
   "metadata": {
    "tags": []
   },
   "source": [
    "### Create a Package Extension in WML with `custmonitor`  library<a name=\"package_extension\"></a>"
   ]
  },
  {
   "cell_type": "code",
   "execution_count": null,
   "id": "832a0806-3e02-4e1d-a430-520379cf7161",
   "metadata": {},
   "outputs": [],
   "source": [
    "if exists(pkg_extn_path):\n",
    "\n",
    "    pkg_extn_uid, pkg_extn_url, details = create_package_extension(\n",
    "        wml_client,\n",
    "        pkg_extn_name,\n",
    "        pkg_extn_description,\n",
    "        pkg_extn_path,\n",
    "        pkg_extn_type,\n",
    "    )\n",
    "\n",
    "    print(\n",
    "        f\"pkg_extn_uid : {pkg_extn_uid}, \"\n",
    "        f\"pkg_extn_url : {pkg_extn_url}, \"\n",
    "        f\"pkg_extn_details:\\n{json.dumps(details, indent=4)}\"\n",
    "    )\n",
    "else:\n",
    "    details = wml_client.package_extensions.get_details(pkg_extn_uid)\n",
    "    raise ValueError(f\"{pkg_extn_path} not found with details:\\n{details}\")"
   ]
  },
  {
   "cell_type": "markdown",
   "id": "b0e300aa-fed8-4708-984d-63dd350a70ca",
   "metadata": {},
   "source": [
    "### Create a Software specification in WML with `custmonitor` <a name=\"software_specifications\"></a>"
   ]
  },
  {
   "cell_type": "code",
   "execution_count": null,
   "id": "28a046ff-f8b1-4205-9afe-8e981cf48495",
   "metadata": {},
   "outputs": [],
   "source": [
    "sw_spec_uid = create_software_specification_extension(wml_client, pkg_extn_uid, sw_spec_name, sw_sepc_decr, base_sw_spec)\n",
    "print(f\"SW spec created with ID {sw_spec_uid}\")"
   ]
  },
  {
   "cell_type": "markdown",
   "id": "fa730e80",
   "metadata": {},
   "source": [
    "### Deploy Custom Metrics Provider (WML function) for Custom Monitor <a name=\"metrics_provider\"></a>"
   ]
  },
  {
   "cell_type": "code",
   "execution_count": null,
   "id": "5d289e0d-9318-4eea-b4b6-df02b4462d61",
   "metadata": {},
   "outputs": [],
   "source": [
    "from mlmonitor.src.wml.deploy_custom_metrics_provider import deploy_custom_metrics_provider\n",
    "\n",
    "\n",
    "def custom_metrics_provider(\n",
    "    url=WOS_URL, apikey=API_KEY, use_case=model_uc.source_dir\n",
    "):\n",
    "    import importlib\n",
    "    from custmonitor.metricsprovider.helpers import publish\n",
    "\n",
    "    get_metrics = getattr(\n",
    "        importlib.import_module(f\"custmonitor.metrics.{use_case}\"),\n",
    "        \"get_metrics\",\n",
    "    )\n",
    "\n",
    "    def publish_to_monitor(input_data):\n",
    "        response_payload = publish(\n",
    "            input_data=input_data,\n",
    "            url=url,\n",
    "            apikey=apikey,\n",
    "            get_metrics_fn=get_metrics,\n",
    "        )\n",
    "        return response_payload\n",
    "\n",
    "    return publish_to_monitor\n",
    "\n",
    "deploy_custom_metrics_provider(deployment_name=deployment_name,\n",
    "                               function_code=custom_metrics_provider,\n",
    "                               wml_space_id=WML_SPACE_ID,\n",
    "                               python_function_name=py_fname,\n",
    "                               runtime=f\"custmonitor-{version}\")"
   ]
  },
  {
   "cell_type": "markdown",
   "id": "40e90dda-5581-4c09-b20a-42246c82190c",
   "metadata": {},
   "source": [
    "### Test Custom Metrics Provider <a name=\"test_metrics_provider\"></a>"
   ]
  },
  {
   "cell_type": "code",
   "execution_count": null,
   "id": "8832eb0e-5535-40a8-822f-78a26095f9f0",
   "metadata": {},
   "outputs": [],
   "source": [
    "input_data = {\n",
    "    \"input_data\": [\n",
    "        {\n",
    "            \"values\": {\n",
    "                \"data_mart_id\": data_mart_id,\n",
    "                \"subscription_id\": subscription_id,\n",
    "                \"test\": \"test\",\n",
    "                \"custom_monitor_run_id\": \"123\",\n",
    "                \"custom_monitor_id\": \"not needed\",\n",
    "                \"custom_monitor_instance_id\": \"not needed\",\n",
    "                \"custom_monitor_instance_params\": {\n",
    "                    \"custom_metrics_provider_id\": \"not needed\",\n",
    "                    \"custom_metrics_wait_time\": 300,\n",
    "                },\n",
    "            }\n",
    "        }\n",
    "    ]\n",
    "}\n",
    "    \n",
    "deployment_uid = get_deployment_uid_by_name(wml_client=wml_client, deployment_name=deployment_name)\n",
    "wml_client.deployments.score(deployment_uid, input_data)"
   ]
  },
  {
   "cell_type": "markdown",
   "id": "aade0262-7872-45d9-a8af-b891db135b70",
   "metadata": {},
   "source": [
    "### Create Custom Monitor in Watson OpenScale <a name=\"custom_monitor\"></a>"
   ]
  },
  {
   "cell_type": "code",
   "execution_count": null,
   "id": "83bf128d-d79c-4d87-bcb0-009b11b441ff",
   "metadata": {},
   "outputs": [],
   "source": [
    "custom_monitor_config = {\n",
    "'monitored_model':monitored_model.strip(),\n",
    " 'wos_client':wos_client,\n",
    " 'wml_client':wml_client,\n",
    " 'deployment_name':deployment_name,\n",
    " 'provider_name':provider_name,\n",
    " 'custom_monitor_name':custom_monitor_name,\n",
    " 'custom_metrics_names':custom_metrics_names,\n",
    " 'custom_metrics_thresholds':custom_metrics_thresholds,\n",
    " 'wml_space_id':WML_SPACE_ID,\n",
    " 'apikey':API_KEY,\n",
    " 'auth_url':IAM_URL\n",
    "}\n",
    "custom_monitor_config"
   ]
  },
  {
   "cell_type": "code",
   "execution_count": null,
   "id": "08ed350b-08da-4619-a69a-bd51313d3d79",
   "metadata": {},
   "outputs": [],
   "source": [
    "from mlmonitor.src.wos.configure_custom_monitor import configure_custom_monitor\n",
    "\n",
    "custom_monitor_instance_details = configure_custom_monitor(**custom_monitor_config)\n",
    "\n",
    "print(json.dumps(custom_monitor_instance_details.to_dict(), indent=4))"
   ]
  },
  {
   "cell_type": "markdown",
   "id": "f10391cd-1fd5-495b-9ca8-b355f588fe48",
   "metadata": {
    "tags": []
   },
   "source": [
    "### Feedback or Payload Logging <a name=\"feedback_loggigng\"></a>"
   ]
  },
  {
   "cell_type": "code",
   "execution_count": null,
   "id": "58431784-668e-4e18-b1b9-31b702ae70a2",
   "metadata": {},
   "outputs": [],
   "source": [
    "from mlmonitor.src.wos.run_feedback_logging import log_feedback_data\n",
    "\n",
    "log_feedback_data(\n",
    "    model_config=model_uc._model_config,\n",
    "    deployment_name=monitored_model.strip(),\n",
    "    deployment_target='aws',\n",
    "    inference_samples=100,\n",
    "    include_predictions=False,\n",
    ")"
   ]
  },
  {
   "cell_type": "markdown",
   "id": "56c751ed-1bc5-45d6-9dda-e48e84aed2e6",
   "metadata": {
    "tags": []
   },
   "source": [
    "### Evaluate custom Monitor <a name=\"evaluate\"></a>"
   ]
  },
  {
   "cell_type": "code",
   "execution_count": null,
   "id": "582a3eef-22c4-4bc4-a9ba-e7b644742537",
   "metadata": {},
   "outputs": [],
   "source": [
    "from mlmonitor.src.wos.evaluate import evaluate_monitor\n",
    "from mlmonitor.src import PROJECT_ROOT\n",
    "\n",
    "evaluate_monitor(\n",
    "    deployment_name=monitored_model.strip(),\n",
    "    monitor_types=(custom_monitor_name.strip().lower(),),\n",
    ")"
   ]
  },
  {
   "cell_type": "markdown",
   "id": "8ae7083f-8a80-4e6a-9dd5-eb62f35aae68",
   "metadata": {
    "tags": []
   },
   "source": [
    "### Delete Custom Monitor <a name=\"delete\"></a>"
   ]
  },
  {
   "cell_type": "code",
   "execution_count": null,
   "id": "b763a2a6-1f99-474a-b796-c0860b76a7a1",
   "metadata": {},
   "outputs": [],
   "source": [
    "cleanup_custom_monitor(\n",
    "    wos_client=wos_client,\n",
    "    provider_name=provider_name,\n",
    "    custom_monitor_name=custom_monitor_name,\n",
    "    subscription_id=subscription_id,\n",
    "    data_mart_id=data_mart_id,\n",
    ")"
   ]
  },
  {
   "cell_type": "markdown",
   "id": "a8b355bd-1527-4514-ab85-33cb7fcdb0e7",
   "metadata": {},
   "source": [
    "### delete custom provider deployment"
   ]
  },
  {
   "cell_type": "code",
   "execution_count": null,
   "id": "6fd08165-39e2-4b1c-ba92-62be0eaa3a76",
   "metadata": {},
   "outputs": [],
   "source": [
    "deployment_uid = get_deployment_uid_by_name(wml_client=wml_client,deployment_name=deployment_name)\n",
    "if deployment_uid:\n",
    "    wml_client.deployments.delete(deployment_uid=deployment_uid)"
   ]
  },
  {
   "cell_type": "markdown",
   "id": "289e3af3-258c-4c71-8968-82b27ecaa297",
   "metadata": {},
   "source": [
    "### delete custom provider function"
   ]
  },
  {
   "cell_type": "code",
   "execution_count": null,
   "id": "943dcd39-28e1-4c5d-b3a8-16ac22cda7eb",
   "metadata": {},
   "outputs": [],
   "source": [
    "function_uid = get_function_uid_by_name(wml_client=wml_client,function_name=py_fname)\n",
    "\n",
    "if function_uid:\n",
    "    wml_client.repository.delete(artifact_uid=function_uid)"
   ]
  }
 ],
 "metadata": {
  "celltoolbar": "Tags",
  "instance_type": "ml.t3.medium",
  "kernelspec": {
   "display_name": "Python 3 (ipykernel)",
   "language": "python",
   "name": "python3"
  },
  "language_info": {
   "codemirror_mode": {
    "name": "ipython",
    "version": 3
   },
   "file_extension": ".py",
   "mimetype": "text/x-python",
   "name": "python",
   "nbconvert_exporter": "python",
   "pygments_lexer": "ipython3",
   "version": "3.10.11"
  },
  "notice": "Copyright 2017 Amazon.com, Inc. or its affiliates. All Rights Reserved.  Licensed under the Apache License, Version 2.0 (the \"License\"). You may not use this file except in compliance with the License. A copy of the License is located at http://aws.amazon.com/apache2.0/ or in the \"license\" file accompanying this file. This file is distributed on an \"AS IS\" BASIS, WITHOUT WARRANTIES OR CONDITIONS OF ANY KIND, either express or implied. See the License for the specific language governing permissions and limitations under the License.",
  "papermill": {
   "default_parameters": {},
   "duration": 311.728138,
   "end_time": "2021-06-07T00:14:55.273560",
   "environment_variables": {},
   "exception": true,
   "input_path": "xgboost_customer_churn.ipynb",
   "output_path": "/opt/ml/processing/output/xgboost_customer_churn-2021-06-07-00-06-03.ipynb",
   "parameters": {
    "kms_key": "arn:aws:kms:us-west-2:521695447989:key/6e9984db-50cf-4c7e-926c-877ec47a8b25"
   },
   "start_time": "2021-06-07T00:09:43.545422",
   "version": "2.3.3"
  }
 },
 "nbformat": 4,
 "nbformat_minor": 5
}
